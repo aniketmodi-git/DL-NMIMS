{
  "nbformat": 4,
  "nbformat_minor": 0,
  "metadata": {
    "colab": {
      "name": "Lab11.ipynb",
      "provenance": [],
      "authorship_tag": "ABX9TyOx4TsagjK5DtoqwadKFSB5"
    },
    "kernelspec": {
      "name": "python3",
      "display_name": "Python 3"
    },
    "language_info": {
      "name": "python"
    }
  },
  "cells": [
    {
      "cell_type": "code",
      "metadata": {
        "id": "709dDo9T0CXT"
      },
      "source": [
        "import keras\n",
        "\n",
        "from keras.datasets import mnist\n",
        "from keras.models import Model\n",
        "from keras.layers import Input, Flatten, Dense, Dropout,Flatten, Lambda\n",
        "from keras.layers import Conv2D, Activation,AveragePooling2D,MaxPooling2D\n",
        "from keras.optimizers import RMSprop\n",
        "\n",
        "from keras import backend as K\n",
        "\n",
        "from __future__ import absolute_import\n",
        "from __future__ import print_function\n",
        "import numpy as np\n",
        "\n",
        "import random"
      ],
      "execution_count": null,
      "outputs": []
    },
    {
      "cell_type": "code",
      "metadata": {
        "id": "ZA7u9yW60P_t"
      },
      "source": [
        "def euclid_dis(vects):\n",
        "  x,y = vects\n",
        "  sum_square = K.sum(K.square(x-y), axis=1, keepdims=True)\n",
        "  return K.sqrt(K.maximum(sum_square, K.epsilon()))\n",
        "\n",
        "def eucl_dist_output_shape(shapes):\n",
        "    shape1, shape2 = shapes\n",
        "    return (shape1[0], 1)\n",
        "\n",
        "def contrastive_loss(y_true, y_pred):\n",
        "    margin = 1\n",
        "    square_pred = K.square(y_pred)\n",
        "    margin_square = K.square(K.maximum(margin - y_pred, 0))\n",
        "    return K.mean(y_true * square_pred + (1 - y_true) * margin_square)"
      ],
      "execution_count": null,
      "outputs": []
    },
    {
      "cell_type": "code",
      "metadata": {
        "id": "SHto2vRS0YMr"
      },
      "source": [
        "def create_pairs(x, digit_indices):\n",
        "  \n",
        "  num_classes=10\n",
        "  \n",
        "  pairs = []\n",
        "  labels = []\n",
        "  \n",
        "  n=min([len(digit_indices[d]) for d in range(num_classes)]) -1\n",
        "  \n",
        "  for d in range(num_classes):\n",
        "    for i in range(n):\n",
        "      z1, z2 = digit_indices[d][i], digit_indices[d][i+1]\n",
        "      pairs += [[x[z1], x[z2]]]\n",
        "      inc = random.randrange(1, num_classes)\n",
        "      dn = (d + inc) % num_classes\n",
        "      z1, z2 = digit_indices[d][i], digit_indices[dn][i]\n",
        "      pairs += [[x[z1], x[z2]]]\n",
        "      labels += [1,0]\n",
        "  return np.array(pairs), np.array(labels)"
      ],
      "execution_count": null,
      "outputs": []
    },
    {
      "cell_type": "code",
      "metadata": {
        "id": "ecyTD_K80YIG"
      },
      "source": [
        "def create_base_net(input_shape):\n",
        "  \n",
        "  input = Input(shape = input_shape)\n",
        "  x = Conv2D(32, (3,3), activation = 'relu')(input)\n",
        "  x = AveragePooling2D(pool_size = (2,2))(x)\n",
        "  x = Conv2D(64, (3,3), activation = 'tanh')(x)\n",
        "  x = MaxPooling2D(pool_size = (2,2))(x)\n",
        "  x = Dropout(0.25)(x)\n",
        "  x = Flatten()(x)\n",
        "  x = Dense(128, activation = 'tanh')(x)\n",
        "  x = Dropout(0.5)(x)\n",
        "  x = Dense(64,activation = 'tanh')(x)\n",
        "  x = Dropout(0.5)(x)\n",
        "  x = Dense(10,activation = 'tanh')(x)\n",
        "  model = Model(input, x)\n",
        "  model.summary()\n",
        "  \n",
        "  return model"
      ],
      "execution_count": null,
      "outputs": []
    },
    {
      "cell_type": "code",
      "metadata": {
        "colab": {
          "base_uri": "https://localhost:8080/"
        },
        "id": "suD8jFh80YGg",
        "outputId": "adeabe3e-fb6c-4f85-cc77-0af69ae41cea"
      },
      "source": [
        "def compute_accuracy(y_true, y_pred):\n",
        "    '''Compute classification accuracy with a fixed threshold on distances.\n",
        "    '''\n",
        "    pred = y_pred.ravel() < 0.5\n",
        "    return np.mean(pred == y_true)\n",
        "\n",
        "\n",
        "def accuracy(y_true, y_pred):\n",
        "    '''Compute classification accuracy with a fixed threshold on distances.\n",
        "    '''\n",
        "    return K.mean(K.equal(y_true, K.cast(y_pred < 0.5, y_true.dtype)))\n",
        "\n",
        "\n",
        "# the data, split between train and test sets\n",
        "(x_train, y_train), (x_test, y_test) = mnist.load_data()\n",
        "\n",
        "\n",
        "x_train = x_train.reshape(x_train.shape[0], 28, 28,1)\n",
        "x_test = x_test.reshape(x_test.shape[0], 28, 28, 1)\n",
        "# input_shape = (1, 28, 28)\n",
        "print(x_train.shape)\n",
        "x_train = x_train.astype('float32')\n",
        "x_test = x_test.astype('float32')\n",
        "x_train /= 255\n",
        "x_test /= 255\n",
        "\n",
        "input_shape = x_train.shape[1:]\n",
        "input_shape = (28, 28, 1)"
      ],
      "execution_count": null,
      "outputs": [
        {
          "output_type": "stream",
          "text": [
            "(60000, 28, 28, 1)\n"
          ],
          "name": "stdout"
        }
      ]
    },
    {
      "cell_type": "code",
      "metadata": {
        "colab": {
          "base_uri": "https://localhost:8080/"
        },
        "id": "uMsDndKE0YDS",
        "outputId": "f7a8c0dc-dc75-4c47-f87d-28da8ea9c9f5"
      },
      "source": [
        "# create training+test positive and negative pairs\n",
        "\n",
        "num_classes=10\n",
        "\n",
        "digit_indices = [np.where(y_train == i)[0] for i in range(num_classes)]\n",
        "tr_pairs, tr_y = create_pairs(x_train, digit_indices)\n",
        "\n",
        "digit_indices = [np.where(y_test == i)[0] for i in range(num_classes)]\n",
        "te_pairs, te_y = create_pairs(x_test, digit_indices)\n",
        "\n",
        "# network definition\n",
        "base_network = create_base_net(input_shape)"
      ],
      "execution_count": null,
      "outputs": [
        {
          "output_type": "stream",
          "text": [
            "Model: \"model_6\"\n",
            "_________________________________________________________________\n",
            "Layer (type)                 Output Shape              Param #   \n",
            "=================================================================\n",
            "input_10 (InputLayer)        [(None, 28, 28, 1)]       0         \n",
            "_________________________________________________________________\n",
            "conv2d_6 (Conv2D)            (None, 26, 26, 32)        320       \n",
            "_________________________________________________________________\n",
            "average_pooling2d (AveragePo (None, 13, 13, 32)        0         \n",
            "_________________________________________________________________\n",
            "conv2d_7 (Conv2D)            (None, 11, 11, 64)        18496     \n",
            "_________________________________________________________________\n",
            "max_pooling2d_6 (MaxPooling2 (None, 5, 5, 64)          0         \n",
            "_________________________________________________________________\n",
            "dropout (Dropout)            (None, 5, 5, 64)          0         \n",
            "_________________________________________________________________\n",
            "flatten_3 (Flatten)          (None, 1600)              0         \n",
            "_________________________________________________________________\n",
            "dense_9 (Dense)              (None, 128)               204928    \n",
            "_________________________________________________________________\n",
            "dropout_1 (Dropout)          (None, 128)               0         \n",
            "_________________________________________________________________\n",
            "dense_10 (Dense)             (None, 64)                8256      \n",
            "_________________________________________________________________\n",
            "dropout_2 (Dropout)          (None, 64)                0         \n",
            "_________________________________________________________________\n",
            "dense_11 (Dense)             (None, 10)                650       \n",
            "=================================================================\n",
            "Total params: 232,650\n",
            "Trainable params: 232,650\n",
            "Non-trainable params: 0\n",
            "_________________________________________________________________\n"
          ],
          "name": "stdout"
        }
      ]
    },
    {
      "cell_type": "code",
      "metadata": {
        "id": "bUAc3geH0YA0"
      },
      "source": [
        "input_a = Input(shape=input_shape)\n",
        "input_b = Input(shape=input_shape)\n",
        "\n",
        "processed_a = base_network(input_a)\n",
        "processed_b = base_network(input_b)\n",
        "\n",
        "distance = Lambda(euclid_dis,\n",
        "                  output_shape=eucl_dist_output_shape)([processed_a, processed_b])\n",
        "\n",
        "model = Model([input_a, input_b], distance)"
      ],
      "execution_count": null,
      "outputs": []
    },
    {
      "cell_type": "code",
      "metadata": {
        "colab": {
          "base_uri": "https://localhost:8080/"
        },
        "id": "GS7Eu3CA10bf",
        "outputId": "e10c26dd-77cb-4163-feab-36d741eec1e6"
      },
      "source": [
        "print(tr_pairs.dtype)\n",
        "print(tr_y.dtype)\n",
        "print(te_pairs.dtype)\n",
        "print(te_y.dtype)"
      ],
      "execution_count": null,
      "outputs": [
        {
          "output_type": "stream",
          "text": [
            "float32\n",
            "float64\n",
            "float32\n",
            "int64\n"
          ],
          "name": "stdout"
        }
      ]
    },
    {
      "cell_type": "code",
      "metadata": {
        "id": "Xmmz1xBM2Ntw"
      },
      "source": [
        "tr_y = tr_y.astype('float64')\n",
        "tr_pairs = tr_pairs.astype('float64')\n",
        "te_pairs = te_pairs.astype('float64')\n",
        "te_y = te_y.astype('float64')"
      ],
      "execution_count": null,
      "outputs": []
    },
    {
      "cell_type": "code",
      "metadata": {
        "colab": {
          "base_uri": "https://localhost:8080/"
        },
        "id": "sapCyM140X9r",
        "outputId": "b37542e8-32dd-4184-f203-e2459321e334"
      },
      "source": [
        "epochs=20\n",
        "\n",
        "rms = RMSprop()\n",
        "model.compile(loss=contrastive_loss, optimizer=rms, metrics=[accuracy])\n",
        "model.fit([tr_pairs[:, 0], tr_pairs[:, 1]], tr_y,\n",
        "          batch_size=128,\n",
        "          epochs=epochs,\n",
        "          validation_data=([te_pairs[:, 0], te_pairs[:, 1]], te_y))"
      ],
      "execution_count": null,
      "outputs": [
        {
          "output_type": "stream",
          "text": [
            "Epoch 1/20\n",
            "847/847 [==============================] - 145s 170ms/step - loss: 0.0993 - accuracy: 0.8951 - val_loss: 0.0539 - val_accuracy: 0.9564\n",
            "Epoch 2/20\n",
            "847/847 [==============================] - 143s 168ms/step - loss: 0.0879 - accuracy: 0.9132 - val_loss: 0.0499 - val_accuracy: 0.9622\n",
            "Epoch 3/20\n",
            "847/847 [==============================] - 143s 169ms/step - loss: 0.0807 - accuracy: 0.9254 - val_loss: 0.0470 - val_accuracy: 0.9638\n",
            "Epoch 4/20\n",
            "847/847 [==============================] - 143s 169ms/step - loss: 0.0728 - accuracy: 0.9386 - val_loss: 0.0434 - val_accuracy: 0.9592\n",
            "Epoch 5/20\n",
            "847/847 [==============================] - 145s 171ms/step - loss: 0.0668 - accuracy: 0.9427 - val_loss: 0.0425 - val_accuracy: 0.9555\n",
            "Epoch 6/20\n",
            "847/847 [==============================] - 147s 174ms/step - loss: 0.0639 - accuracy: 0.9471 - val_loss: 0.0388 - val_accuracy: 0.9613\n",
            "Epoch 7/20\n",
            "847/847 [==============================] - 145s 171ms/step - loss: 0.0629 - accuracy: 0.9486 - val_loss: 0.0368 - val_accuracy: 0.9628\n",
            "Epoch 8/20\n",
            "847/847 [==============================] - 144s 170ms/step - loss: 0.0616 - accuracy: 0.9506 - val_loss: 0.0385 - val_accuracy: 0.9574\n",
            "Epoch 9/20\n",
            "847/847 [==============================] - 144s 171ms/step - loss: 0.0575 - accuracy: 0.9554 - val_loss: 0.0343 - val_accuracy: 0.9575\n",
            "Epoch 10/20\n",
            "847/847 [==============================] - 143s 168ms/step - loss: 0.0546 - accuracy: 0.9585 - val_loss: 0.0305 - val_accuracy: 0.9624\n",
            "Epoch 11/20\n",
            "847/847 [==============================] - 143s 168ms/step - loss: 0.0523 - accuracy: 0.9612 - val_loss: 0.0294 - val_accuracy: 0.9704\n",
            "Epoch 12/20\n",
            "847/847 [==============================] - 143s 169ms/step - loss: 0.0505 - accuracy: 0.9638 - val_loss: 0.0282 - val_accuracy: 0.9695\n",
            "Epoch 13/20\n",
            "847/847 [==============================] - 143s 169ms/step - loss: 0.0497 - accuracy: 0.9646 - val_loss: 0.0306 - val_accuracy: 0.9675\n",
            "Epoch 14/20\n",
            "847/847 [==============================] - 144s 170ms/step - loss: 0.0489 - accuracy: 0.9666 - val_loss: 0.0268 - val_accuracy: 0.9744\n",
            "Epoch 15/20\n",
            "847/847 [==============================] - 144s 170ms/step - loss: 0.0476 - accuracy: 0.9685 - val_loss: 0.0269 - val_accuracy: 0.9759\n",
            "Epoch 16/20\n",
            "847/847 [==============================] - 144s 170ms/step - loss: 0.0475 - accuracy: 0.9685 - val_loss: 0.0272 - val_accuracy: 0.9749\n",
            "Epoch 17/20\n",
            "847/847 [==============================] - 144s 170ms/step - loss: 0.0468 - accuracy: 0.9708 - val_loss: 0.0253 - val_accuracy: 0.9778\n",
            "Epoch 18/20\n",
            "847/847 [==============================] - 143s 169ms/step - loss: 0.0468 - accuracy: 0.9702 - val_loss: 0.0258 - val_accuracy: 0.9691\n",
            "Epoch 19/20\n",
            "847/847 [==============================] - 143s 169ms/step - loss: 0.0472 - accuracy: 0.9698 - val_loss: 0.0257 - val_accuracy: 0.9772\n",
            "Epoch 20/20\n",
            "847/847 [==============================] - 144s 170ms/step - loss: 0.0465 - accuracy: 0.9713 - val_loss: 0.0273 - val_accuracy: 0.9768\n"
          ],
          "name": "stdout"
        },
        {
          "output_type": "execute_result",
          "data": {
            "text/plain": [
              "<tensorflow.python.keras.callbacks.History at 0x7fc0ec47fb90>"
            ]
          },
          "metadata": {
            "tags": []
          },
          "execution_count": 76
        }
      ]
    },
    {
      "cell_type": "code",
      "metadata": {
        "colab": {
          "base_uri": "https://localhost:8080/"
        },
        "id": "emDnBrG70X7X",
        "outputId": "abc9b363-ed45-414a-ca93-b50eb1ec2e3a"
      },
      "source": [
        "y_pred = model.predict([tr_pairs[:, 0], tr_pairs[:, 1]])\n",
        "tr_acc = compute_accuracy(tr_y, y_pred)\n",
        "y_pred = model.predict([te_pairs[:, 0], te_pairs[:, 1]])\n",
        "te_acc = compute_accuracy(te_y, y_pred)\n",
        "\n",
        "print('Accuracy on training set: %0.2f%%' % (100 * tr_acc))\n",
        "print('Accuracy on test set: %0.2f%%' % (100 * te_acc))"
      ],
      "execution_count": null,
      "outputs": [
        {
          "output_type": "stream",
          "text": [
            "Accuracy on training set: 99.12%\n",
            "Accuracy on test set: 97.67%\n"
          ],
          "name": "stdout"
        }
      ]
    },
    {
      "cell_type": "code",
      "metadata": {
        "colab": {
          "base_uri": "https://localhost:8080/",
          "height": 581
        },
        "id": "1U6-Fak10t70",
        "outputId": "d5113d4e-93b3-405e-d095-d895c6589314"
      },
      "source": [
        "import matplotlib.pyplot as plt\n",
        "from PIL import Image\n",
        "number_of_items = 20\n",
        "import tensorflow as tf\n",
        "\n",
        "im = tf.keras.preprocessing.image.array_to_img(\n",
        "    tr_pairs[1,0],\n",
        "    data_format=None,\n",
        "    scale=True,\n",
        "    dtype=None\n",
        ")\n",
        "\n",
        "plt.figure(figsize=(10, 5))\n",
        "for item in range(number_of_items):\n",
        "    display = plt.subplot(1, number_of_items,item+1)\n",
        "    im = tf.keras.preprocessing.image.array_to_img( tr_pairs[item,0], data_format=None, scale=True,dtype=None)\n",
        "    plt.imshow(im, cmap=\"gray\")\n",
        "    display.get_xaxis().set_visible(False)\n",
        "    display.get_yaxis().set_visible(False)\n",
        "plt.show()\n",
        "\n",
        "plt.figure(figsize=(10, 5))\n",
        "for item in range(number_of_items):\n",
        "    display = plt.subplot(1, number_of_items,item+1)\n",
        "    im = tf.keras.preprocessing.image.array_to_img( tr_pairs[item,1], data_format=None, scale=True,dtype=None)\n",
        "    plt.imshow(im, cmap=\"gray\")\n",
        "    display.get_xaxis().set_visible(False)\n",
        "    display.get_yaxis().set_visible(False)\n",
        "plt.show()\n",
        "\n",
        "for i in range(number_of_items):\n",
        "  print(y_pred[i])\n",
        "plt.figure(figsize=(20, 2))\n",
        "plt.imshow(im, cmap=\"gray\")\n",
        "plt.show()"
      ],
      "execution_count": null,
      "outputs": [
        {
          "output_type": "display_data",
          "data": {
            "image/png": "[encoded data removed]",
            "text/plain": [
              "<Figure size 720x360 with 20 Axes>"
            ]
          },
          "metadata": {
            "tags": [],
            "needs_background": "light"
          }
        },
        {
          "output_type": "display_data",
          "data": {
            "image/png": "[encoded data removed]",
            "text/plain": [
              "<Figure size 720x360 with 20 Axes>"
            ]
          },
          "metadata": {
            "tags": [],
            "needs_background": "light"
          }
        },
        {
          "output_type": "stream",
          "text": [
            "[0.00147853]\n",
            "[0.48665833]\n",
            "[0.00544047]\n",
            "[0.92894846]\n",
            "[0.00079062]\n",
            "[0.14471427]\n",
            "[0.01037862]\n",
            "[0.8433658]\n",
            "[0.00985081]\n",
            "[0.51038975]\n",
            "[0.00090439]\n",
            "[1.5831139]\n",
            "[0.00464336]\n",
            "[1.3474752]\n",
            "[0.00132337]\n",
            "[1.4275571]\n",
            "[0.01770457]\n",
            "[1.5324625]\n",
            "[0.01449929]\n",
            "[1.1627566]\n"
          ],
          "name": "stdout"
        },
        {
          "output_type": "display_data",
          "data": {
            "image/png": "[encoded data removed]",
            "text/plain": [
              "<Figure size 1440x144 with 1 Axes>"
            ]
          },
          "metadata": {
            "tags": [],
            "needs_background": "light"
          }
        }
      ]
    }
  ]
}