{
  "nbformat": 4,
  "nbformat_minor": 0,
  "metadata": {
    "colab": {
      "name": "Assignment2.ipynb",
      "provenance": [],
      "authorship_tag": "ABX9TyOijOCIX43x4N0UKTDh2RVU"
    },
    "kernelspec": {
      "name": "python3",
      "display_name": "Python 3"
    },
    "language_info": {
      "name": "python"
    }
  },
  "cells": [
    {
      "cell_type": "markdown",
      "metadata": {
        "id": "G37smUSD7u8Q"
      },
      "source": [
        "#**Stock Market Prediction**"
      ]
    },
    {
      "cell_type": "code",
      "metadata": {
        "id": "eEgbQomi7trP"
      },
      "source": [
        "import math \n",
        "import pandas_datareader as web\n",
        "import numpy as np\n",
        "import pandas as pd\n",
        "from sklearn.preprocessing import MinMaxScaler\n",
        "from keras.models import Sequential\n",
        "from keras.layers import Dense, LSTM\n",
        "import matplotlib.pyplot as plt\n",
        "plt.style.use('fivethirtyeight')"
      ],
      "execution_count": null,
      "outputs": []
    },
    {
      "cell_type": "code",
      "metadata": {
        "colab": {
          "base_uri": "https://localhost:8080/",
          "height": 233
        },
        "id": "Qa-SVWVs729Z",
        "outputId": "9cd7fab8-1c07-4d68-d1de-5e84bf9345a7"
      },
      "source": [
        "data = web.DataReader('BRITANNIA.NS', data_source = 'yahoo', start = '2016-01-01', end = '2021-2-25')\n",
        "data.head()"
      ],
      "execution_count": null,
      "outputs": [
        {
          "output_type": "execute_result",
          "data": {
            "text/html": [
              "<div>\n",
              "<style scoped>\n",
              "    .dataframe tbody tr th:only-of-type {\n",
              "        vertical-align: middle;\n",
              "    }\n",
              "\n",
              "    .dataframe tbody tr th {\n",
              "        vertical-align: top;\n",
              "    }\n",
              "\n",
              "    .dataframe thead th {\n",
              "        text-align: right;\n",
              "    }\n",
              "</style>\n",
              "<table border=\"1\" class=\"dataframe\">\n",
              "  <thead>\n",
              "    <tr style=\"text-align: right;\">\n",
              "      <th></th>\n",
              "      <th>High</th>\n",
              "      <th>Low</th>\n",
              "      <th>Open</th>\n",
              "      <th>Close</th>\n",
              "      <th>Volume</th>\n",
              "      <th>Adj Close</th>\n",
              "    </tr>\n",
              "    <tr>\n",
              "      <th>Date</th>\n",
              "      <th></th>\n",
              "      <th></th>\n",
              "      <th></th>\n",
              "      <th></th>\n",
              "      <th></th>\n",
              "      <th></th>\n",
              "    </tr>\n",
              "  </thead>\n",
              "  <tbody>\n",
              "    <tr>\n",
              "      <th>2016-01-01</th>\n",
              "      <td>1501.675049</td>\n",
              "      <td>1481.199951</td>\n",
              "      <td>1481.199951</td>\n",
              "      <td>1493.199951</td>\n",
              "      <td>129486.0</td>\n",
              "      <td>1402.360718</td>\n",
              "    </tr>\n",
              "    <tr>\n",
              "      <th>2016-01-04</th>\n",
              "      <td>1502.224976</td>\n",
              "      <td>1476.000000</td>\n",
              "      <td>1490.000000</td>\n",
              "      <td>1486.300049</td>\n",
              "      <td>253614.0</td>\n",
              "      <td>1395.880615</td>\n",
              "    </tr>\n",
              "    <tr>\n",
              "      <th>2016-01-05</th>\n",
              "      <td>1496.275024</td>\n",
              "      <td>1475.150024</td>\n",
              "      <td>1488.550049</td>\n",
              "      <td>1483.349976</td>\n",
              "      <td>228500.0</td>\n",
              "      <td>1393.110107</td>\n",
              "    </tr>\n",
              "    <tr>\n",
              "      <th>2016-01-06</th>\n",
              "      <td>1503.000000</td>\n",
              "      <td>1476.500000</td>\n",
              "      <td>1476.500000</td>\n",
              "      <td>1500.849976</td>\n",
              "      <td>267276.0</td>\n",
              "      <td>1409.545410</td>\n",
              "    </tr>\n",
              "    <tr>\n",
              "      <th>2016-01-07</th>\n",
              "      <td>1497.425049</td>\n",
              "      <td>1455.525024</td>\n",
              "      <td>1495.000000</td>\n",
              "      <td>1473.275024</td>\n",
              "      <td>298800.0</td>\n",
              "      <td>1383.647949</td>\n",
              "    </tr>\n",
              "  </tbody>\n",
              "</table>\n",
              "</div>"
            ],
            "text/plain": [
              "                   High          Low  ...    Volume    Adj Close\n",
              "Date                                  ...                       \n",
              "2016-01-01  1501.675049  1481.199951  ...  129486.0  1402.360718\n",
              "2016-01-04  1502.224976  1476.000000  ...  253614.0  1395.880615\n",
              "2016-01-05  1496.275024  1475.150024  ...  228500.0  1393.110107\n",
              "2016-01-06  1503.000000  1476.500000  ...  267276.0  1409.545410\n",
              "2016-01-07  1497.425049  1455.525024  ...  298800.0  1383.647949\n",
              "\n",
              "[5 rows x 6 columns]"
            ]
          },
          "metadata": {
            "tags": []
          },
          "execution_count": 2
        }
      ]
    },
    {
      "cell_type": "code",
      "metadata": {
        "colab": {
          "base_uri": "https://localhost:8080/"
        },
        "id": "rxEFKoU979eC",
        "outputId": "a3c43101-6eea-40c4-f24d-e58219c75314"
      },
      "source": [
        "data.iloc[data.shape[0]-39:, 3]"
      ],
      "execution_count": null,
      "outputs": [
        {
          "output_type": "execute_result",
          "data": {
            "text/plain": [
              "Date\n",
              "2021-01-04    3552.899902\n",
              "2021-01-05    3551.100098\n",
              "2021-01-06    3539.699951\n",
              "2021-01-07    3552.800049\n",
              "2021-01-08    3575.250000\n",
              "2021-01-11    3612.850098\n",
              "2021-01-12    3631.649902\n",
              "2021-01-13    3621.149902\n",
              "2021-01-14    3665.449951\n",
              "2021-01-15    3609.050049\n",
              "2021-01-18    3607.850098\n",
              "2021-01-19    3601.250000\n",
              "2021-01-20    3592.300049\n",
              "2021-01-21    3630.800049\n",
              "2021-01-22    3608.000000\n",
              "2021-01-25    3613.550049\n",
              "2021-01-27    3610.750000\n",
              "2021-01-28    3603.750000\n",
              "2021-01-29    3501.100098\n",
              "2021-02-01    3520.750000\n",
              "2021-02-02    3501.250000\n",
              "2021-02-03    3516.500000\n",
              "2021-02-04    3580.000000\n",
              "2021-02-05    3541.649902\n",
              "2021-02-08    3473.699951\n",
              "2021-02-09    3462.399902\n",
              "2021-02-10    3424.850098\n",
              "2021-02-11    3462.750000\n",
              "2021-02-12    3421.250000\n",
              "2021-02-15    3417.000000\n",
              "2021-02-16    3389.449951\n",
              "2021-02-17    3364.000000\n",
              "2021-02-18    3359.449951\n",
              "2021-02-19    3331.199951\n",
              "2021-02-22    3341.199951\n",
              "2021-02-23    3335.949951\n",
              "2021-02-24    3405.550049\n",
              "2021-02-25    3405.000000\n",
              "2021-02-26    3363.750000\n",
              "Name: Close, dtype: float64"
            ]
          },
          "metadata": {
            "tags": []
          },
          "execution_count": 3
        }
      ]
    },
    {
      "cell_type": "code",
      "metadata": {
        "colab": {
          "base_uri": "https://localhost:8080/"
        },
        "id": "-UCuGN3F8CSS",
        "outputId": "23f4d645-32a7-49d4-dba9-598b961b4a60"
      },
      "source": [
        "data.shape"
      ],
      "execution_count": null,
      "outputs": [
        {
          "output_type": "execute_result",
          "data": {
            "text/plain": [
              "(1272, 6)"
            ]
          },
          "metadata": {
            "tags": []
          },
          "execution_count": 4
        }
      ]
    },
    {
      "cell_type": "code",
      "metadata": {
        "colab": {
          "base_uri": "https://localhost:8080/",
          "height": 518
        },
        "id": "XYp2CbMt8Fk7",
        "outputId": "bef0491b-de76-4cf8-91e3-f1519c93b942"
      },
      "source": [
        "plt.figure(figsize = (16,8))\n",
        "plt.title(\"Close Price History\")\n",
        "plt.plot(data['Close'])\n",
        "plt.xlabel('Date', fontsize = 18)\n",
        "plt.ylabel('Close Price', fontsize = 18)\n",
        "plt.show()"
      ],
      "execution_count": null,
      "outputs": [
        {
          "output_type": "display_data",
          "data": {
            "image/png": "[encoded data removed]",
            "text/plain": [
              "<Figure size 1152x576 with 1 Axes>"
            ]
          },
          "metadata": {
            "tags": [],
            "needs_background": "light"
          }
        }
      ]
    },
    {
      "cell_type": "code",
      "metadata": {
        "id": "2fR2Eaxf8FjU"
      },
      "source": [
        "data = data.filter(['Close'])\n",
        "dataset = data.values"
      ],
      "execution_count": null,
      "outputs": []
    },
    {
      "cell_type": "code",
      "metadata": {
        "colab": {
          "base_uri": "https://localhost:8080/"
        },
        "id": "2oFjNiPP8FgL",
        "outputId": "179d421d-fdc0-4702-c724-8bca01ee6f17"
      },
      "source": [
        "training_data_len = data.shape[0]-39\n",
        "training_data_len"
      ],
      "execution_count": null,
      "outputs": [
        {
          "output_type": "execute_result",
          "data": {
            "text/plain": [
              "1233"
            ]
          },
          "metadata": {
            "tags": []
          },
          "execution_count": 7
        }
      ]
    },
    {
      "cell_type": "code",
      "metadata": {
        "colab": {
          "base_uri": "https://localhost:8080/"
        },
        "id": "k6DZhRiE8Fec",
        "outputId": "4fdb2aeb-f770-4b49-b272-65f379b8fef8"
      },
      "source": [
        "scaler = MinMaxScaler(feature_range = (0,1))\n",
        "scaled_data = scaler.fit_transform(dataset)\n",
        "scaled_data"
      ],
      "execution_count": null,
      "outputs": [
        {
          "output_type": "execute_result",
          "data": {
            "text/plain": [
              "array([[0.07816925],\n",
              "       [0.07561426],\n",
              "       [0.07452186],\n",
              "       ...,\n",
              "       [0.78630284],\n",
              "       [0.78609916],\n",
              "       [0.77082449]])"
            ]
          },
          "metadata": {
            "tags": []
          },
          "execution_count": 8
        }
      ]
    },
    {
      "cell_type": "code",
      "metadata": {
        "colab": {
          "base_uri": "https://localhost:8080/"
        },
        "id": "aQitQOms8VCo",
        "outputId": "ed57066b-5140-40fa-def6-6194923357ba"
      },
      "source": [
        "train_data = scaled_data[0:training_data_len, :]\n",
        "x_train, y_train = [], []\n",
        "\n",
        "for i in range(60, len(train_data)):\n",
        "  x_train.append(train_data[i-60:i,0])\n",
        "  y_train.append(train_data[i,0])\n",
        "  if i<=61:\n",
        "    print(x_train)\n",
        "    print(y_train)\n",
        "    print()"
      ],
      "execution_count": null,
      "outputs": [
        {
          "output_type": "stream",
          "text": [
            "[array([0.07816925, 0.07561426, 0.07452186, 0.08100202, 0.07079116,\n",
            "       0.06259838, 0.06574589, 0.06961545, 0.06313529, 0.0617282 ,\n",
            "       0.05460924, 0.03723318, 0.0312529 , 0.02138453, 0.01027568,\n",
            "       0.00957212, 0.00710969, 0.01582084, 0.0196349 , 0.02318972,\n",
            "       0.04375036, 0.042334  , 0.04885118, 0.0540816 , 0.0552295 ,\n",
            "       0.05379461, 0.04052881, 0.02921628, 0.0129233 , 0.        ,\n",
            "       0.01882949, 0.01142359, 0.01629298, 0.03504843, 0.02967915,\n",
            "       0.04353746, 0.04407437, 0.03502989, 0.02254171, 0.02744811,\n",
            "       0.03555758, 0.05137842, 0.05529432, 0.05140622, 0.05387792,\n",
            "       0.04718485, 0.05065637, 0.05007313, 0.04663868, 0.04792544,\n",
            "       0.03602045, 0.02890154, 0.0246987 , 0.02251395, 0.03161393,\n",
            "       0.03467813, 0.02982728, 0.01136808, 0.00350854, 0.01375647])]\n",
            "[0.022643545230610518]\n",
            "\n",
            "[array([0.07816925, 0.07561426, 0.07452186, 0.08100202, 0.07079116,\n",
            "       0.06259838, 0.06574589, 0.06961545, 0.06313529, 0.0617282 ,\n",
            "       0.05460924, 0.03723318, 0.0312529 , 0.02138453, 0.01027568,\n",
            "       0.00957212, 0.00710969, 0.01582084, 0.0196349 , 0.02318972,\n",
            "       0.04375036, 0.042334  , 0.04885118, 0.0540816 , 0.0552295 ,\n",
            "       0.05379461, 0.04052881, 0.02921628, 0.0129233 , 0.        ,\n",
            "       0.01882949, 0.01142359, 0.01629298, 0.03504843, 0.02967915,\n",
            "       0.04353746, 0.04407437, 0.03502989, 0.02254171, 0.02744811,\n",
            "       0.03555758, 0.05137842, 0.05529432, 0.05140622, 0.05387792,\n",
            "       0.04718485, 0.05065637, 0.05007313, 0.04663868, 0.04792544,\n",
            "       0.03602045, 0.02890154, 0.0246987 , 0.02251395, 0.03161393,\n",
            "       0.03467813, 0.02982728, 0.01136808, 0.00350854, 0.01375647]), array([0.07561426, 0.07452186, 0.08100202, 0.07079116, 0.06259838,\n",
            "       0.06574589, 0.06961545, 0.06313529, 0.0617282 , 0.05460924,\n",
            "       0.03723318, 0.0312529 , 0.02138453, 0.01027568, 0.00957212,\n",
            "       0.00710969, 0.01582084, 0.0196349 , 0.02318972, 0.04375036,\n",
            "       0.042334  , 0.04885118, 0.0540816 , 0.0552295 , 0.05379461,\n",
            "       0.04052881, 0.02921628, 0.0129233 , 0.        , 0.01882949,\n",
            "       0.01142359, 0.01629298, 0.03504843, 0.02967915, 0.04353746,\n",
            "       0.04407437, 0.03502989, 0.02254171, 0.02744811, 0.03555758,\n",
            "       0.05137842, 0.05529432, 0.05140622, 0.05387792, 0.04718485,\n",
            "       0.05065637, 0.05007313, 0.04663868, 0.04792544, 0.03602045,\n",
            "       0.02890154, 0.0246987 , 0.02251395, 0.03161393, 0.03467813,\n",
            "       0.02982728, 0.01136808, 0.00350854, 0.01375647, 0.02264355])]\n",
            "[0.022643545230610518, 0.021264205582404327]\n",
            "\n"
          ],
          "name": "stdout"
        }
      ]
    },
    {
      "cell_type": "code",
      "metadata": {
        "id": "CUGwbetz8ZkI"
      },
      "source": [
        "x_train, y_train = np.array(x_train), np.array(y_train)"
      ],
      "execution_count": null,
      "outputs": []
    },
    {
      "cell_type": "code",
      "metadata": {
        "colab": {
          "base_uri": "https://localhost:8080/"
        },
        "id": "FPPhwZ-M8aIJ",
        "outputId": "d4f71d08-be86-4bbf-94de-6762a3b1a2c2"
      },
      "source": [
        "x_train = np.reshape(x_train, (x_train.shape[0], x_train.shape[1], 1))\n",
        "x_train.shape"
      ],
      "execution_count": null,
      "outputs": [
        {
          "output_type": "execute_result",
          "data": {
            "text/plain": [
              "(1173, 60, 1)"
            ]
          },
          "metadata": {
            "tags": []
          },
          "execution_count": 11
        }
      ]
    },
    {
      "cell_type": "code",
      "metadata": {
        "id": "AK23zPX-8e-U"
      },
      "source": [
        "model = Sequential()\n",
        "\n",
        "model.add(LSTM(50, return_sequences=True, input_shape = (x_train.shape[1],1)))\n",
        "model.add(LSTM(50, return_sequences=False))\n",
        "model.add(Dense(25))\n",
        "model.add(Dense(1))"
      ],
      "execution_count": null,
      "outputs": []
    },
    {
      "cell_type": "code",
      "metadata": {
        "colab": {
          "base_uri": "https://localhost:8080/"
        },
        "id": "qxH5-52E8e6N",
        "outputId": "1ed0f244-d395-41b2-cd02-313df67bd00f"
      },
      "source": [
        "model.summary()"
      ],
      "execution_count": null,
      "outputs": [
        {
          "output_type": "stream",
          "text": [
            "Model: \"sequential\"\n",
            "_________________________________________________________________\n",
            "Layer (type)                 Output Shape              Param #   \n",
            "=================================================================\n",
            "lstm (LSTM)                  (None, 60, 50)            10400     \n",
            "_________________________________________________________________\n",
            "lstm_1 (LSTM)                (None, 50)                20200     \n",
            "_________________________________________________________________\n",
            "dense (Dense)                (None, 25)                1275      \n",
            "_________________________________________________________________\n",
            "dense_1 (Dense)              (None, 1)                 26        \n",
            "=================================================================\n",
            "Total params: 31,901\n",
            "Trainable params: 31,901\n",
            "Non-trainable params: 0\n",
            "_________________________________________________________________\n"
          ],
          "name": "stdout"
        }
      ]
    },
    {
      "cell_type": "code",
      "metadata": {
        "id": "qUHF_Bw28e4r"
      },
      "source": [
        "model.compile(optimizer = 'adam', loss = 'mean_squared_error')"
      ],
      "execution_count": null,
      "outputs": []
    },
    {
      "cell_type": "code",
      "metadata": {
        "colab": {
          "base_uri": "https://localhost:8080/"
        },
        "id": "ydz9Hme58nUD",
        "outputId": "46c7016c-034e-4ed8-f73d-8a03ddd61b0c"
      },
      "source": [
        "model.fit(x_train, y_train, batch_size = 1, epochs = 1)"
      ],
      "execution_count": null,
      "outputs": [
        {
          "output_type": "stream",
          "text": [
            "1173/1173 [==============================] - 29s 22ms/step - loss: 0.0076\n"
          ],
          "name": "stdout"
        },
        {
          "output_type": "execute_result",
          "data": {
            "text/plain": [
              "<tensorflow.python.keras.callbacks.History at 0x7f041a2fbad0>"
            ]
          },
          "metadata": {
            "tags": []
          },
          "execution_count": 15
        }
      ]
    },
    {
      "cell_type": "code",
      "metadata": {
        "id": "sVld0G4J8x6t"
      },
      "source": [
        "test_data = scaled_data[training_data_len-60:, :]\n",
        "\n",
        "x_test, y_test = [], dataset[training_data_len:, :]\n",
        "\n",
        "for i in range(60, len(test_data)):\n",
        "  x_test.append(test_data[i-60:i, 0])"
      ],
      "execution_count": null,
      "outputs": []
    },
    {
      "cell_type": "code",
      "metadata": {
        "id": "vhj2nKft8x5M"
      },
      "source": [
        "x_test = np.array(x_test)"
      ],
      "execution_count": null,
      "outputs": []
    },
    {
      "cell_type": "code",
      "metadata": {
        "id": "aVxHxfsq8x1T"
      },
      "source": [
        "x_test = np.reshape(x_test, (x_test.shape[0], x_test.shape[1], 1))"
      ],
      "execution_count": null,
      "outputs": []
    },
    {
      "cell_type": "code",
      "metadata": {
        "id": "xmGiVUbI8xzo"
      },
      "source": [
        "prediction = model.predict(x_test)\n",
        "prediction = scaler.inverse_transform(prediction)"
      ],
      "execution_count": null,
      "outputs": []
    },
    {
      "cell_type": "code",
      "metadata": {
        "colab": {
          "base_uri": "https://localhost:8080/"
        },
        "id": "kOYBPBCS89GW",
        "outputId": "1b975b2a-d55e-4a73-ad28-8b046073efa3"
      },
      "source": [
        "rmse = np.sqrt(np.mean(prediction - y_test)**2)\n",
        "rmse"
      ],
      "execution_count": null,
      "outputs": [
        {
          "output_type": "execute_result",
          "data": {
            "text/plain": [
              "191.48006810897436"
            ]
          },
          "metadata": {
            "tags": []
          },
          "execution_count": 20
        }
      ]
    },
    {
      "cell_type": "code",
      "metadata": {
        "colab": {
          "base_uri": "https://localhost:8080/"
        },
        "id": "wfK2K5Q689CM",
        "outputId": "35199941-e1d3-4d76-d49b-d25f1b2b5fc5"
      },
      "source": [
        "train = data[:training_data_len]\n",
        "valid = data[training_data_len:]\n",
        "valid['Prediction'] = prediction \n",
        "valid['Error Precentage'] = ((valid['Close'] - valid['Prediction'])/valid['Close'])*100"
      ],
      "execution_count": null,
      "outputs": [
        {
          "output_type": "stream",
          "text": [
            "/usr/local/lib/python3.7/dist-packages/ipykernel_launcher.py:3: SettingWithCopyWarning: \n",
            "A value is trying to be set on a copy of a slice from a DataFrame.\n",
            "Try using .loc[row_indexer,col_indexer] = value instead\n",
            "\n",
            "See the caveats in the documentation: https://pandas.pydata.org/pandas-docs/stable/user_guide/indexing.html#returning-a-view-versus-a-copy\n",
            "  This is separate from the ipykernel package so we can avoid doing imports until\n",
            "/usr/local/lib/python3.7/dist-packages/ipykernel_launcher.py:4: SettingWithCopyWarning: \n",
            "A value is trying to be set on a copy of a slice from a DataFrame.\n",
            "Try using .loc[row_indexer,col_indexer] = value instead\n",
            "\n",
            "See the caveats in the documentation: https://pandas.pydata.org/pandas-docs/stable/user_guide/indexing.html#returning-a-view-versus-a-copy\n",
            "  after removing the cwd from sys.path.\n"
          ],
          "name": "stderr"
        }
      ]
    },
    {
      "cell_type": "code",
      "metadata": {
        "colab": {
          "base_uri": "https://localhost:8080/",
          "height": 518
        },
        "id": "DvIQYxax89Ar",
        "outputId": "1d2f0ba5-80f7-4a27-8ba4-227891f29886"
      },
      "source": [
        "plt.figure(figsize = (16,8))\n",
        "plt.title(\"Model\")\n",
        "plt.xlabel('Date', fontsize = 18)\n",
        "plt.ylabel('Close Price USD($)', fontsize = 18)\n",
        "plt.plot(train['Close'])\n",
        "plt.plot(valid[['Close','Prediction']])\n",
        "plt.legend(['Train','Val','Prediction'], loc = 'lower right')\n",
        "plt.show()"
      ],
      "execution_count": null,
      "outputs": [
        {
          "output_type": "display_data",
          "data": {
            "image/png": "[encoded data removed]",
            "text/plain": [
              "<Figure size 1152x576 with 1 Axes>"
            ]
          },
          "metadata": {
            "tags": [],
            "needs_background": "light"
          }
        }
      ]
    },
    {
      "cell_type": "code",
      "metadata": {
        "colab": {
          "base_uri": "https://localhost:8080/",
          "height": 1000
        },
        "id": "H6O5sMAU9IpF",
        "outputId": "04cd28c3-fdea-4415-859c-613375976b6d"
      },
      "source": [
        "valid"
      ],
      "execution_count": null,
      "outputs": [
        {
          "output_type": "execute_result",
          "data": {
            "text/html": [
              "<div>\n",
              "<style scoped>\n",
              "    .dataframe tbody tr th:only-of-type {\n",
              "        vertical-align: middle;\n",
              "    }\n",
              "\n",
              "    .dataframe tbody tr th {\n",
              "        vertical-align: top;\n",
              "    }\n",
              "\n",
              "    .dataframe thead th {\n",
              "        text-align: right;\n",
              "    }\n",
              "</style>\n",
              "<table border=\"1\" class=\"dataframe\">\n",
              "  <thead>\n",
              "    <tr style=\"text-align: right;\">\n",
              "      <th></th>\n",
              "      <th>Close</th>\n",
              "      <th>Prediction</th>\n",
              "      <th>Error Precentage</th>\n",
              "    </tr>\n",
              "    <tr>\n",
              "      <th>Date</th>\n",
              "      <th></th>\n",
              "      <th></th>\n",
              "      <th></th>\n",
              "    </tr>\n",
              "  </thead>\n",
              "  <tbody>\n",
              "    <tr>\n",
              "      <th>2021-01-04</th>\n",
              "      <td>3552.899902</td>\n",
              "      <td>3771.843018</td>\n",
              "      <td>-6.162378</td>\n",
              "    </tr>\n",
              "    <tr>\n",
              "      <th>2021-01-05</th>\n",
              "      <td>3551.100098</td>\n",
              "      <td>3759.156006</td>\n",
              "      <td>-5.858914</td>\n",
              "    </tr>\n",
              "    <tr>\n",
              "      <th>2021-01-06</th>\n",
              "      <td>3539.699951</td>\n",
              "      <td>3747.872070</td>\n",
              "      <td>-5.881067</td>\n",
              "    </tr>\n",
              "    <tr>\n",
              "      <th>2021-01-07</th>\n",
              "      <td>3552.800049</td>\n",
              "      <td>3737.310547</td>\n",
              "      <td>-5.193383</td>\n",
              "    </tr>\n",
              "    <tr>\n",
              "      <th>2021-01-08</th>\n",
              "      <td>3575.250000</td>\n",
              "      <td>3729.541016</td>\n",
              "      <td>-4.315531</td>\n",
              "    </tr>\n",
              "    <tr>\n",
              "      <th>2021-01-11</th>\n",
              "      <td>3612.850098</td>\n",
              "      <td>3726.209961</td>\n",
              "      <td>-3.137685</td>\n",
              "    </tr>\n",
              "    <tr>\n",
              "      <th>2021-01-12</th>\n",
              "      <td>3631.649902</td>\n",
              "      <td>3729.317383</td>\n",
              "      <td>-2.689342</td>\n",
              "    </tr>\n",
              "    <tr>\n",
              "      <th>2021-01-13</th>\n",
              "      <td>3621.149902</td>\n",
              "      <td>3737.466064</td>\n",
              "      <td>-3.212133</td>\n",
              "    </tr>\n",
              "    <tr>\n",
              "      <th>2021-01-14</th>\n",
              "      <td>3665.449951</td>\n",
              "      <td>3746.676025</td>\n",
              "      <td>-2.215992</td>\n",
              "    </tr>\n",
              "    <tr>\n",
              "      <th>2021-01-15</th>\n",
              "      <td>3609.050049</td>\n",
              "      <td>3760.235596</td>\n",
              "      <td>-4.189068</td>\n",
              "    </tr>\n",
              "    <tr>\n",
              "      <th>2021-01-18</th>\n",
              "      <td>3607.850098</td>\n",
              "      <td>3769.113770</td>\n",
              "      <td>-4.469800</td>\n",
              "    </tr>\n",
              "    <tr>\n",
              "      <th>2021-01-19</th>\n",
              "      <td>3601.250000</td>\n",
              "      <td>3774.935059</td>\n",
              "      <td>-4.822910</td>\n",
              "    </tr>\n",
              "    <tr>\n",
              "      <th>2021-01-20</th>\n",
              "      <td>3592.300049</td>\n",
              "      <td>3777.775146</td>\n",
              "      <td>-5.163129</td>\n",
              "    </tr>\n",
              "    <tr>\n",
              "      <th>2021-01-21</th>\n",
              "      <td>3630.800049</td>\n",
              "      <td>3777.771973</td>\n",
              "      <td>-4.047921</td>\n",
              "    </tr>\n",
              "    <tr>\n",
              "      <th>2021-01-22</th>\n",
              "      <td>3608.000000</td>\n",
              "      <td>3779.994873</td>\n",
              "      <td>-4.767042</td>\n",
              "    </tr>\n",
              "    <tr>\n",
              "      <th>2021-01-25</th>\n",
              "      <td>3613.550049</td>\n",
              "      <td>3780.650391</td>\n",
              "      <td>-4.624271</td>\n",
              "    </tr>\n",
              "    <tr>\n",
              "      <th>2021-01-27</th>\n",
              "      <td>3610.750000</td>\n",
              "      <td>3781.118896</td>\n",
              "      <td>-4.718380</td>\n",
              "    </tr>\n",
              "    <tr>\n",
              "      <th>2021-01-28</th>\n",
              "      <td>3603.750000</td>\n",
              "      <td>3781.085205</td>\n",
              "      <td>-4.920852</td>\n",
              "    </tr>\n",
              "    <tr>\n",
              "      <th>2021-01-29</th>\n",
              "      <td>3501.100098</td>\n",
              "      <td>3780.084473</td>\n",
              "      <td>-7.968478</td>\n",
              "    </tr>\n",
              "    <tr>\n",
              "      <th>2021-02-01</th>\n",
              "      <td>3520.750000</td>\n",
              "      <td>3768.468018</td>\n",
              "      <td>-7.035945</td>\n",
              "    </tr>\n",
              "    <tr>\n",
              "      <th>2021-02-02</th>\n",
              "      <td>3501.250000</td>\n",
              "      <td>3754.630615</td>\n",
              "      <td>-7.236862</td>\n",
              "    </tr>\n",
              "    <tr>\n",
              "      <th>2021-02-03</th>\n",
              "      <td>3516.500000</td>\n",
              "      <td>3738.505127</td>\n",
              "      <td>-6.313241</td>\n",
              "    </tr>\n",
              "    <tr>\n",
              "      <th>2021-02-04</th>\n",
              "      <td>3580.000000</td>\n",
              "      <td>3724.149414</td>\n",
              "      <td>-4.026520</td>\n",
              "    </tr>\n",
              "    <tr>\n",
              "      <th>2021-02-05</th>\n",
              "      <td>3541.649902</td>\n",
              "      <td>3718.224854</td>\n",
              "      <td>-4.985669</td>\n",
              "    </tr>\n",
              "    <tr>\n",
              "      <th>2021-02-08</th>\n",
              "      <td>3473.699951</td>\n",
              "      <td>3713.361084</td>\n",
              "      <td>-6.899304</td>\n",
              "    </tr>\n",
              "    <tr>\n",
              "      <th>2021-02-09</th>\n",
              "      <td>3462.399902</td>\n",
              "      <td>3703.245605</td>\n",
              "      <td>-6.956034</td>\n",
              "    </tr>\n",
              "    <tr>\n",
              "      <th>2021-02-10</th>\n",
              "      <td>3424.850098</td>\n",
              "      <td>3690.495605</td>\n",
              "      <td>-7.756413</td>\n",
              "    </tr>\n",
              "    <tr>\n",
              "      <th>2021-02-11</th>\n",
              "      <td>3462.750000</td>\n",
              "      <td>3673.683105</td>\n",
              "      <td>-6.091491</td>\n",
              "    </tr>\n",
              "    <tr>\n",
              "      <th>2021-02-12</th>\n",
              "      <td>3421.250000</td>\n",
              "      <td>3660.066650</td>\n",
              "      <td>-6.980392</td>\n",
              "    </tr>\n",
              "    <tr>\n",
              "      <th>2021-02-15</th>\n",
              "      <td>3417.000000</td>\n",
              "      <td>3645.037109</td>\n",
              "      <td>-6.673606</td>\n",
              "    </tr>\n",
              "    <tr>\n",
              "      <th>2021-02-16</th>\n",
              "      <td>3389.449951</td>\n",
              "      <td>3630.502686</td>\n",
              "      <td>-7.111854</td>\n",
              "    </tr>\n",
              "    <tr>\n",
              "      <th>2021-02-17</th>\n",
              "      <td>3364.000000</td>\n",
              "      <td>3614.851562</td>\n",
              "      <td>-7.456943</td>\n",
              "    </tr>\n",
              "    <tr>\n",
              "      <th>2021-02-18</th>\n",
              "      <td>3359.449951</td>\n",
              "      <td>3597.674072</td>\n",
              "      <td>-7.091164</td>\n",
              "    </tr>\n",
              "    <tr>\n",
              "      <th>2021-02-19</th>\n",
              "      <td>3331.199951</td>\n",
              "      <td>3580.894287</td>\n",
              "      <td>-7.495627</td>\n",
              "    </tr>\n",
              "    <tr>\n",
              "      <th>2021-02-22</th>\n",
              "      <td>3341.199951</td>\n",
              "      <td>3563.072266</td>\n",
              "      <td>-6.640498</td>\n",
              "    </tr>\n",
              "    <tr>\n",
              "      <th>2021-02-23</th>\n",
              "      <td>3335.949951</td>\n",
              "      <td>3547.453125</td>\n",
              "      <td>-6.340118</td>\n",
              "    </tr>\n",
              "    <tr>\n",
              "      <th>2021-02-24</th>\n",
              "      <td>3405.550049</td>\n",
              "      <td>3533.890869</td>\n",
              "      <td>-3.768578</td>\n",
              "    </tr>\n",
              "    <tr>\n",
              "      <th>2021-02-25</th>\n",
              "      <td>3405.000000</td>\n",
              "      <td>3529.649170</td>\n",
              "      <td>-3.660769</td>\n",
              "    </tr>\n",
              "    <tr>\n",
              "      <th>2021-02-26</th>\n",
              "      <td>3363.750000</td>\n",
              "      <td>3530.609863</td>\n",
              "      <td>-4.960531</td>\n",
              "    </tr>\n",
              "  </tbody>\n",
              "</table>\n",
              "</div>"
            ],
            "text/plain": [
              "                  Close   Prediction  Error Precentage\n",
              "Date                                                  \n",
              "2021-01-04  3552.899902  3771.843018         -6.162378\n",
              "2021-01-05  3551.100098  3759.156006         -5.858914\n",
              "2021-01-06  3539.699951  3747.872070         -5.881067\n",
              "2021-01-07  3552.800049  3737.310547         -5.193383\n",
              "2021-01-08  3575.250000  3729.541016         -4.315531\n",
              "2021-01-11  3612.850098  3726.209961         -3.137685\n",
              "2021-01-12  3631.649902  3729.317383         -2.689342\n",
              "2021-01-13  3621.149902  3737.466064         -3.212133\n",
              "2021-01-14  3665.449951  3746.676025         -2.215992\n",
              "2021-01-15  3609.050049  3760.235596         -4.189068\n",
              "2021-01-18  3607.850098  3769.113770         -4.469800\n",
              "2021-01-19  3601.250000  3774.935059         -4.822910\n",
              "2021-01-20  3592.300049  3777.775146         -5.163129\n",
              "2021-01-21  3630.800049  3777.771973         -4.047921\n",
              "2021-01-22  3608.000000  3779.994873         -4.767042\n",
              "2021-01-25  3613.550049  3780.650391         -4.624271\n",
              "2021-01-27  3610.750000  3781.118896         -4.718380\n",
              "2021-01-28  3603.750000  3781.085205         -4.920852\n",
              "2021-01-29  3501.100098  3780.084473         -7.968478\n",
              "2021-02-01  3520.750000  3768.468018         -7.035945\n",
              "2021-02-02  3501.250000  3754.630615         -7.236862\n",
              "2021-02-03  3516.500000  3738.505127         -6.313241\n",
              "2021-02-04  3580.000000  3724.149414         -4.026520\n",
              "2021-02-05  3541.649902  3718.224854         -4.985669\n",
              "2021-02-08  3473.699951  3713.361084         -6.899304\n",
              "2021-02-09  3462.399902  3703.245605         -6.956034\n",
              "2021-02-10  3424.850098  3690.495605         -7.756413\n",
              "2021-02-11  3462.750000  3673.683105         -6.091491\n",
              "2021-02-12  3421.250000  3660.066650         -6.980392\n",
              "2021-02-15  3417.000000  3645.037109         -6.673606\n",
              "2021-02-16  3389.449951  3630.502686         -7.111854\n",
              "2021-02-17  3364.000000  3614.851562         -7.456943\n",
              "2021-02-18  3359.449951  3597.674072         -7.091164\n",
              "2021-02-19  3331.199951  3580.894287         -7.495627\n",
              "2021-02-22  3341.199951  3563.072266         -6.640498\n",
              "2021-02-23  3335.949951  3547.453125         -6.340118\n",
              "2021-02-24  3405.550049  3533.890869         -3.768578\n",
              "2021-02-25  3405.000000  3529.649170         -3.660769\n",
              "2021-02-26  3363.750000  3530.609863         -4.960531"
            ]
          },
          "metadata": {
            "tags": []
          },
          "execution_count": 23
        }
      ]
    }
  ]
}